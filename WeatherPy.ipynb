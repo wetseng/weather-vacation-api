{
 "cells": [
  {
   "cell_type": "markdown",
   "metadata": {},
   "source": [
    "# WeatherPy\n",
    "----\n",
    "\n",
    "#### Note\n",
    "* Instructions have been included for each segment. You do not have to follow them exactly, but they are included to help you think through the steps."
   ]
  },
  {
   "cell_type": "code",
   "execution_count": 1,
   "metadata": {
    "scrolled": true
   },
   "outputs": [],
   "source": [
    "# Dependencies and Setup\n",
    "import matplotlib.pyplot as plt\n",
    "import pandas as pd\n",
    "import numpy as np\n",
    "import requests\n",
    "import time\n",
    "from scipy.stats import linregress\n",
    "from pprint import pprint\n",
    "from tqdm.notebook import tqdm\n",
    "\n",
    "\n",
    "# Import API key\n",
    "from api_keys import weather_api_key\n",
    "\n",
    "# Incorporated citipy to determine city based on latitude and longitude\n",
    "from citipy import citipy\n",
    "\n",
    "# Output File (CSV)\n",
    "output_data_file = \"output_data/cities.csv\"\n",
    "\n",
    "# Range of latitudes and longitudes\n",
    "lat_range = (-90, 90)\n",
    "lng_range = (-180, 180)"
   ]
  },
  {
   "cell_type": "markdown",
   "metadata": {},
   "source": [
    "## Generate Cities List"
   ]
  },
  {
   "cell_type": "code",
   "execution_count": 2,
   "metadata": {},
   "outputs": [
    {
     "data": {
      "text/plain": [
       "621"
      ]
     },
     "execution_count": 2,
     "metadata": {},
     "output_type": "execute_result"
    }
   ],
   "source": [
    "# List for holding lat_lngs and cities\n",
    "lat_lngs = []\n",
    "cities = []\n",
    "\n",
    "# Create a set of random lat and lng combinations\n",
    "lats = np.random.uniform(lat_range[0], lat_range[1], size=1500)\n",
    "lngs = np.random.uniform(lng_range[0], lng_range[1], size=1500)\n",
    "lat_lngs = zip(lats, lngs)\n",
    "\n",
    "# Identify nearest city for each lat, lng combination\n",
    "for lat_lng in lat_lngs:\n",
    "    city = citipy.nearest_city(lat_lng[0], lat_lng[1]).city_name\n",
    "    \n",
    "    # If the city is unique, then add it to a our cities list\n",
    "    if city not in cities:\n",
    "        cities.append(city)\n",
    "\n",
    "# Print the city count to confirm sufficient count\n",
    "len(cities)"
   ]
  },
  {
   "cell_type": "markdown",
   "metadata": {},
   "source": [
    "### Perform API Calls\n",
    "* Perform a weather check on each city using a series of successive API calls.\n",
    "* Include a print log of each city as it'sbeing processed (with the city number and city name).\n"
   ]
  },
  {
   "cell_type": "code",
   "execution_count": 3,
   "metadata": {},
   "outputs": [
    {
     "name": "stdout",
     "output_type": "stream",
     "text": [
      "Beginning Data Retrieval\n",
      "-----------------------------\n"
     ]
    },
    {
     "data": {
      "application/vnd.jupyter.widget-view+json": {
       "model_id": "1355a2e1a14d4c108f79303765faf292",
       "version_major": 2,
       "version_minor": 0
      },
      "text/plain": [
       "HBox(children=(FloatProgress(value=0.0, max=621.0), HTML(value='')))"
      ]
     },
     "metadata": {},
     "output_type": "display_data"
    },
    {
     "name": "stdout",
     "output_type": "stream",
     "text": [
      "Processing Record 1 of Set 1 | ancud\n",
      "Processing Record 2 of Set 1 | pangnirtung\n",
      "Processing Record 3 of Set 1 | provideniya\n",
      "Processing Record 4 of Set 1 | praya\n",
      "Processing Record 5 of Set 1 | City not found. Skipping...\n",
      "Processing Record 6 of Set 1 | solnechnyy\n",
      "Processing Record 7 of Set 1 | ushuaia\n",
      "Processing Record 8 of Set 1 | takoradi\n",
      "Processing Record 9 of Set 1 | punta arenas\n",
      "Processing Record 10 of Set 1 | City not found. Skipping...\n",
      "Processing Record 11 of Set 1 | port alfred\n",
      "Processing Record 12 of Set 1 | cabedelo\n",
      "Processing Record 13 of Set 1 | vangaindrano\n",
      "Processing Record 14 of Set 1 | murray\n",
      "Processing Record 15 of Set 1 | severo-kurilsk\n",
      "Processing Record 16 of Set 1 | domoni\n",
      "Processing Record 17 of Set 1 | yellowknife\n",
      "Processing Record 18 of Set 1 | chabahar\n",
      "Processing Record 19 of Set 1 | whitehorse\n",
      "Processing Record 20 of Set 1 | opuwo\n",
      "Processing Record 21 of Set 1 | dikson\n",
      "Processing Record 22 of Set 1 | salalah\n",
      "Processing Record 23 of Set 1 | moranbah\n",
      "Processing Record 24 of Set 1 | mount isa\n",
      "Processing Record 25 of Set 1 | waipawa\n",
      "Processing Record 26 of Set 1 | hermanus\n",
      "Processing Record 27 of Set 1 | chipinge\n",
      "Processing Record 28 of Set 1 | sol-iletsk\n",
      "Processing Record 29 of Set 1 | puerto ayora\n",
      "Processing Record 30 of Set 1 | aasiaat\n",
      "Processing Record 31 of Set 1 | rikitea\n",
      "Processing Record 32 of Set 1 | coihaique\n",
      "Processing Record 33 of Set 1 | saskylakh\n",
      "Processing Record 34 of Set 1 | City not found. Skipping...\n",
      "Processing Record 35 of Set 1 | cape town\n",
      "Processing Record 36 of Set 1 | castro\n",
      "Processing Record 37 of Set 1 | stutterheim\n",
      "Processing Record 38 of Set 1 | ondjiva\n",
      "Processing Record 39 of Set 1 | bathsheba\n",
      "Processing Record 40 of Set 1 | arraial do cabo\n",
      "Processing Record 41 of Set 1 | mount gambier\n",
      "Processing Record 42 of Set 1 | City not found. Skipping...\n",
      "Processing Record 43 of Set 1 | airai\n",
      "Processing Record 44 of Set 1 | gat\n",
      "Processing Record 45 of Set 1 | leningradskiy\n",
      "Processing Record 46 of Set 1 | limbuhan\n",
      "Processing Record 47 of Set 1 | City not found. Skipping...\n",
      "Processing Record 48 of Set 1 | krasnovishersk\n",
      "Processing Record 49 of Set 1 | grindavik\n",
      "Processing Record 0 of Set 2 | berbera\n",
      "Processing Record 1 of Set 2 | lasa\n",
      "Processing Record 2 of Set 2 | whitefish\n",
      "Processing Record 3 of Set 2 | yelan-kolenovskiy\n",
      "Processing Record 4 of Set 2 | la reforma\n",
      "Processing Record 5 of Set 2 | City not found. Skipping...\n",
      "Processing Record 6 of Set 2 | maragogi\n",
      "Processing Record 7 of Set 2 | ribeira grande\n",
      "Processing Record 8 of Set 2 | avarua\n",
      "Processing Record 9 of Set 2 | pinsk\n",
      "Processing Record 10 of Set 2 | sisophon\n",
      "Processing Record 11 of Set 2 | hilo\n",
      "Processing Record 12 of Set 2 | hartland\n",
      "Processing Record 13 of Set 2 | saldanha\n",
      "Processing Record 14 of Set 2 | baker city\n",
      "Processing Record 15 of Set 2 | hobart\n",
      "Processing Record 16 of Set 2 | qaanaaq\n",
      "Processing Record 17 of Set 2 | kapaa\n",
      "Processing Record 18 of Set 2 | aklavik\n",
      "Processing Record 19 of Set 2 | khanpur\n",
      "Processing Record 20 of Set 2 | new norfolk\n",
      "Processing Record 21 of Set 2 | katsuura\n",
      "Processing Record 22 of Set 2 | saint-joseph\n",
      "Processing Record 23 of Set 2 | bunia\n",
      "Processing Record 24 of Set 2 | lat yao\n",
      "Processing Record 25 of Set 2 | port elizabeth\n",
      "Processing Record 26 of Set 2 | elizabeth city\n",
      "Processing Record 27 of Set 2 | tursunzoda\n",
      "Processing Record 28 of Set 2 | City not found. Skipping...\n",
      "Processing Record 29 of Set 2 | chokurdakh\n",
      "Processing Record 30 of Set 2 | ulaangom\n",
      "Processing Record 31 of Set 2 | kinston\n",
      "Processing Record 32 of Set 2 | City not found. Skipping...\n",
      "Processing Record 33 of Set 2 | esperance\n",
      "Processing Record 34 of Set 2 | thinadhoo\n",
      "Processing Record 35 of Set 2 | valparaiso\n",
      "Processing Record 36 of Set 2 | yambio\n",
      "Processing Record 37 of Set 2 | maykor\n",
      "Processing Record 38 of Set 2 | ciudad bolivar\n",
      "Processing Record 39 of Set 2 | skibbereen\n",
      "Processing Record 40 of Set 2 | saint anthony\n",
      "Processing Record 41 of Set 2 | dzaoudzi\n",
      "Processing Record 42 of Set 2 | bagotville\n",
      "Processing Record 43 of Set 2 | acarau\n",
      "Processing Record 44 of Set 2 | carutapera\n",
      "Processing Record 45 of Set 2 | City not found. Skipping...\n",
      "Processing Record 46 of Set 2 | namie\n",
      "Processing Record 47 of Set 2 | queanbeyan\n",
      "Processing Record 48 of Set 2 | nishihara\n",
      "Processing Record 49 of Set 2 | rio grande\n",
      "Processing Record 0 of Set 3 | ginir\n",
      "Processing Record 1 of Set 3 | makurdi\n",
      "Processing Record 2 of Set 3 | garowe\n",
      "Processing Record 3 of Set 3 | mataura\n",
      "Processing Record 4 of Set 3 | albany\n",
      "Processing Record 5 of Set 3 | seymchan\n",
      "Processing Record 6 of Set 3 | souillac\n",
      "Processing Record 7 of Set 3 | codrington\n",
      "Processing Record 8 of Set 3 | City not found. Skipping...\n",
      "Processing Record 9 of Set 3 | mokhsogollokh\n",
      "Processing Record 10 of Set 3 | bluff\n",
      "Processing Record 11 of Set 3 | sitka\n",
      "Processing Record 12 of Set 3 | busselton\n",
      "Processing Record 13 of Set 3 | issa\n",
      "Processing Record 14 of Set 3 | stromness\n",
      "Processing Record 15 of Set 3 | osa\n",
      "Processing Record 16 of Set 3 | richards bay\n",
      "Processing Record 17 of Set 3 | pevek\n",
      "Processing Record 18 of Set 3 | ambatondrazaka\n",
      "Processing Record 19 of Set 3 | marsh harbour\n",
      "Processing Record 20 of Set 3 | carnarvon\n",
      "Processing Record 21 of Set 3 | sao felix do xingu\n",
      "Processing Record 22 of Set 3 | geraldton\n",
      "Processing Record 23 of Set 3 | City not found. Skipping...\n",
      "Processing Record 24 of Set 3 | coahuayana\n",
      "Processing Record 25 of Set 3 | goma\n",
      "Processing Record 26 of Set 3 | cherskiy\n",
      "Processing Record 27 of Set 3 | atuona\n",
      "Processing Record 28 of Set 3 | astoria\n",
      "Processing Record 29 of Set 3 | bonavista\n",
      "Processing Record 30 of Set 3 | norman wells\n",
      "Processing Record 31 of Set 3 | auki\n",
      "Processing Record 32 of Set 3 | nabire\n",
      "Processing Record 33 of Set 3 | lafiagi\n",
      "Processing Record 34 of Set 3 | kutum\n",
      "Processing Record 35 of Set 3 | high rock\n",
      "Processing Record 36 of Set 3 | kodiak\n",
      "Processing Record 37 of Set 3 | namibe\n",
      "Processing Record 38 of Set 3 | talnakh\n",
      "Processing Record 39 of Set 3 | City not found. Skipping...\n",
      "Processing Record 40 of Set 3 | City not found. Skipping...\n",
      "Processing Record 41 of Set 3 | bardiyah\n",
      "Processing Record 42 of Set 3 | santa isabel do rio negro\n",
      "Processing Record 43 of Set 3 | laguna\n",
      "Processing Record 44 of Set 3 | butaritari\n",
      "Processing Record 45 of Set 3 | tartagal\n",
      "Processing Record 46 of Set 3 | sayat\n",
      "Processing Record 47 of Set 3 | iskilip\n",
      "Processing Record 48 of Set 3 | hosanagara\n",
      "Processing Record 49 of Set 3 | hay river\n",
      "Processing Record 0 of Set 4 | thompson\n",
      "Processing Record 1 of Set 4 | ciudad del maiz\n",
      "Processing Record 2 of Set 4 | hithadhoo\n",
      "Processing Record 3 of Set 4 | City not found. Skipping...\n",
      "Processing Record 4 of Set 4 | cooma\n",
      "Processing Record 5 of Set 4 | salvador\n",
      "Processing Record 6 of Set 4 | tasiilaq\n",
      "Processing Record 7 of Set 4 | tocopilla\n",
      "Processing Record 8 of Set 4 | cayenne\n",
      "Processing Record 9 of Set 4 | holme\n",
      "Processing Record 10 of Set 4 | vaini\n",
      "Processing Record 11 of Set 4 | teguldet\n",
      "Processing Record 12 of Set 4 | hamilton\n",
      "Processing Record 13 of Set 4 | plainview\n",
      "Processing Record 14 of Set 4 | chuy\n",
      "Processing Record 15 of Set 4 | allapalli\n",
      "Processing Record 16 of Set 4 | safaga\n",
      "Processing Record 17 of Set 4 | mackenzie\n",
      "Processing Record 18 of Set 4 | alibag\n",
      "Processing Record 19 of Set 4 | jumla\n",
      "Processing Record 20 of Set 4 | tomatlan\n",
      "Processing Record 21 of Set 4 | nha trang\n",
      "Processing Record 22 of Set 4 | port augusta\n",
      "Processing Record 23 of Set 4 | upernavik\n",
      "Processing Record 24 of Set 4 | lubango\n",
      "Processing Record 25 of Set 4 | coquimbo\n",
      "Processing Record 26 of Set 4 | abomsa\n",
      "Processing Record 27 of Set 4 | chiang klang\n",
      "Processing Record 28 of Set 4 | raudeberg\n",
      "Processing Record 29 of Set 4 | fort nelson\n",
      "Processing Record 30 of Set 4 | caravelas\n",
      "Processing Record 31 of Set 4 | lagunas\n",
      "Processing Record 32 of Set 4 | namwala\n",
      "Processing Record 33 of Set 4 | jamestown\n",
      "Processing Record 34 of Set 4 | dijon\n",
      "Processing Record 35 of Set 4 | joutseno\n",
      "Processing Record 36 of Set 4 | walla walla\n",
      "Processing Record 37 of Set 4 | bisira\n",
      "Processing Record 38 of Set 4 | atasu\n",
      "Processing Record 39 of Set 4 | bandarbeyla\n",
      "Processing Record 40 of Set 4 | bengkulu\n",
      "Processing Record 41 of Set 4 | victoria\n",
      "Processing Record 42 of Set 4 | mar del plata\n",
      "Processing Record 43 of Set 4 | City not found. Skipping...\n"
     ]
    },
    {
     "name": "stdout",
     "output_type": "stream",
     "text": [
      "Processing Record 44 of Set 4 | polson\n",
      "Processing Record 45 of Set 4 | asau\n",
      "Processing Record 46 of Set 4 | adrar\n",
      "Processing Record 47 of Set 4 | deputatskiy\n",
      "Processing Record 48 of Set 4 | port hardy\n",
      "Processing Record 49 of Set 4 | nortelandia\n",
      "Processing Record 0 of Set 5 | westport\n",
      "Processing Record 1 of Set 5 | campbell river\n",
      "Processing Record 2 of Set 5 | georgetown\n",
      "Processing Record 3 of Set 5 | yar-sale\n",
      "Processing Record 4 of Set 5 | ankazoabo\n",
      "Processing Record 5 of Set 5 | City not found. Skipping...\n",
      "Processing Record 6 of Set 5 | doctor juan leon mallorquin\n",
      "Processing Record 7 of Set 5 | lebu\n",
      "Processing Record 8 of Set 5 | agua dulce\n",
      "Processing Record 9 of Set 5 | guacimo\n",
      "Processing Record 10 of Set 5 | clyde river\n",
      "Processing Record 11 of Set 5 | diapaga\n",
      "Processing Record 12 of Set 5 | boddam\n",
      "Processing Record 13 of Set 5 | ilulissat\n",
      "Processing Record 14 of Set 5 | sanandaj\n",
      "Processing Record 15 of Set 5 | barrow\n",
      "Processing Record 16 of Set 5 | hede\n",
      "Processing Record 17 of Set 5 | kaitangata\n",
      "Processing Record 18 of Set 5 | barmer\n",
      "Processing Record 19 of Set 5 | saint-francois\n",
      "Processing Record 20 of Set 5 | ursulo galvan\n",
      "Processing Record 21 of Set 5 | svetlogorsk\n",
      "Processing Record 22 of Set 5 | nanortalik\n",
      "Processing Record 23 of Set 5 | atambua\n",
      "Processing Record 24 of Set 5 | paita\n",
      "Processing Record 25 of Set 5 | chalmette\n",
      "Processing Record 26 of Set 5 | luderitz\n",
      "Processing Record 27 of Set 5 | sao filipe\n",
      "Processing Record 28 of Set 5 | kalemie\n",
      "Processing Record 29 of Set 5 | kruisfontein\n",
      "Processing Record 30 of Set 5 | cockburn town\n",
      "Processing Record 31 of Set 5 | shymkent\n",
      "Processing Record 32 of Set 5 | margate\n",
      "Processing Record 33 of Set 5 | City not found. Skipping...\n",
      "Processing Record 34 of Set 5 | grand-santi\n",
      "Processing Record 35 of Set 5 | gua musang\n",
      "Processing Record 36 of Set 5 | porto-vecchio\n",
      "Processing Record 37 of Set 5 | kathu\n",
      "Processing Record 38 of Set 5 | goure\n",
      "Processing Record 39 of Set 5 | faanui\n",
      "Processing Record 40 of Set 5 | dunedin\n",
      "Processing Record 41 of Set 5 | kondapalle\n",
      "Processing Record 42 of Set 5 | zhongshu\n",
      "Processing Record 43 of Set 5 | port-gentil\n",
      "Processing Record 44 of Set 5 | vao\n",
      "Processing Record 45 of Set 5 | alofi\n",
      "Processing Record 46 of Set 5 | bethel\n",
      "Processing Record 47 of Set 5 | komsomolskiy\n",
      "Processing Record 48 of Set 5 | aswan\n",
      "Processing Record 49 of Set 5 | mulanje\n",
      "Processing Record 0 of Set 6 | los llanos de aridane\n",
      "Processing Record 1 of Set 6 | bonthe\n",
      "Processing Record 2 of Set 6 | ambovombe\n",
      "Processing Record 3 of Set 6 | itarema\n",
      "Processing Record 4 of Set 6 | City not found. Skipping...\n",
      "Processing Record 5 of Set 6 | havelock\n",
      "Processing Record 6 of Set 6 | sorong\n",
      "Processing Record 7 of Set 6 | brigantine\n",
      "Processing Record 8 of Set 6 | khatanga\n",
      "Processing Record 9 of Set 6 | guerrero negro\n",
      "Processing Record 10 of Set 6 | mandalgovi\n",
      "Processing Record 11 of Set 6 | muisne\n",
      "Processing Record 12 of Set 6 | lazaro cardenas\n",
      "Processing Record 13 of Set 6 | torbay\n",
      "Processing Record 14 of Set 6 | kabalo\n",
      "Processing Record 15 of Set 6 | cavalcante\n",
      "Processing Record 16 of Set 6 | cherdyn\n",
      "Processing Record 17 of Set 6 | honningsvag\n",
      "Processing Record 18 of Set 6 | tucumcari\n",
      "Processing Record 19 of Set 6 | ponta do sol\n",
      "Processing Record 20 of Set 6 | tiksi\n",
      "Processing Record 21 of Set 6 | longyearbyen\n",
      "Processing Record 22 of Set 6 | ligayan\n",
      "Processing Record 23 of Set 6 | tura\n",
      "Processing Record 24 of Set 6 | harper\n",
      "Processing Record 25 of Set 6 | City not found. Skipping...\n",
      "Processing Record 26 of Set 6 | hidrolandia\n",
      "Processing Record 27 of Set 6 | tateyama\n",
      "Processing Record 28 of Set 6 | saint-philippe\n",
      "Processing Record 29 of Set 6 | quelimane\n",
      "Processing Record 30 of Set 6 | korla\n",
      "Processing Record 31 of Set 6 | teya\n",
      "Processing Record 32 of Set 6 | tuktoyaktuk\n",
      "Processing Record 33 of Set 6 | constitucion\n",
      "Processing Record 34 of Set 6 | mae sot\n",
      "Processing Record 35 of Set 6 | port blair\n",
      "Processing Record 36 of Set 6 | khudumelapye\n",
      "Processing Record 37 of Set 6 | klaksvik\n",
      "Processing Record 38 of Set 6 | bambous virieux\n",
      "Processing Record 39 of Set 6 | mabaruma\n",
      "Processing Record 40 of Set 6 | nome\n",
      "Processing Record 41 of Set 6 | tamandare\n",
      "Processing Record 42 of Set 6 | sembakung\n",
      "Processing Record 43 of Set 6 | bambanglipuro\n",
      "Processing Record 44 of Set 6 | san ramon\n",
      "Processing Record 45 of Set 6 | vardo\n",
      "Processing Record 46 of Set 6 | conde\n",
      "Processing Record 47 of Set 6 | kilindoni\n",
      "Processing Record 48 of Set 6 | ostrovnoy\n",
      "Processing Record 49 of Set 6 | hervey bay\n",
      "Processing Record 0 of Set 7 | natal\n",
      "Processing Record 1 of Set 7 | City not found. Skipping...\n",
      "Processing Record 2 of Set 7 | romans-sur-isere\n",
      "Processing Record 3 of Set 7 | sayyan\n",
      "Processing Record 4 of Set 7 | yarmouth\n",
      "Processing Record 5 of Set 7 | cairns\n",
      "Processing Record 6 of Set 7 | east london\n",
      "Processing Record 7 of Set 7 | goderich\n",
      "Processing Record 8 of Set 7 | naze\n",
      "Processing Record 9 of Set 7 | xiongyue\n",
      "Processing Record 10 of Set 7 | ambon\n",
      "Processing Record 11 of Set 7 | puerto el triunfo\n",
      "Processing Record 12 of Set 7 | rota\n",
      "Processing Record 13 of Set 7 | City not found. Skipping...\n",
      "Processing Record 14 of Set 7 | City not found. Skipping...\n",
      "Processing Record 15 of Set 7 | vila velha\n",
      "Processing Record 16 of Set 7 | kilcullen\n",
      "Processing Record 17 of Set 7 | beringovskiy\n",
      "Processing Record 18 of Set 7 | iqaluit\n",
      "Processing Record 19 of Set 7 | sola\n",
      "Processing Record 20 of Set 7 | srivardhan\n",
      "Processing Record 21 of Set 7 | inirida\n",
      "Processing Record 22 of Set 7 | tessalit\n",
      "Processing Record 23 of Set 7 | baruun-urt\n",
      "Processing Record 24 of Set 7 | hami\n",
      "Processing Record 25 of Set 7 | pangoa\n",
      "Processing Record 26 of Set 7 | faya\n",
      "Processing Record 27 of Set 7 | arteaga\n",
      "Processing Record 28 of Set 7 | City not found. Skipping...\n",
      "Processing Record 29 of Set 7 | bonfim\n",
      "Processing Record 30 of Set 7 | kapustin yar\n",
      "Processing Record 31 of Set 7 | shingu\n",
      "Processing Record 32 of Set 7 | viedma\n",
      "Processing Record 33 of Set 7 | City not found. Skipping...\n",
      "Processing Record 34 of Set 7 | bibiani\n",
      "Processing Record 35 of Set 7 | namatanai\n",
      "Processing Record 36 of Set 7 | necochea\n",
      "Processing Record 37 of Set 7 | mnogovershinnyy\n",
      "Processing Record 38 of Set 7 | otta\n",
      "Processing Record 39 of Set 7 | haines junction\n",
      "Processing Record 40 of Set 7 | marawi\n",
      "Processing Record 41 of Set 7 | City not found. Skipping...\n",
      "Processing Record 42 of Set 7 | cuilco\n",
      "Processing Record 43 of Set 7 | oranjestad\n",
      "Processing Record 44 of Set 7 | soto la marina\n",
      "Processing Record 45 of Set 7 | taoudenni\n",
      "Processing Record 46 of Set 7 | mahebourg\n",
      "Processing Record 47 of Set 7 | andenes\n",
      "Processing Record 48 of Set 7 | portland\n",
      "Processing Record 49 of Set 7 | mogadishu\n",
      "Processing Record 0 of Set 8 | inhambane\n",
      "Processing Record 1 of Set 8 | ibra\n",
      "Processing Record 2 of Set 8 | kahului\n",
      "Processing Record 3 of Set 8 | makakilo city\n",
      "Processing Record 4 of Set 8 | City not found. Skipping...\n",
      "Processing Record 5 of Set 8 | sterling\n",
      "Processing Record 6 of Set 8 | City not found. Skipping...\n",
      "Processing Record 7 of Set 8 | jiaxing\n",
      "Processing Record 8 of Set 8 | City not found. Skipping...\n",
      "Processing Record 9 of Set 8 | kaeo\n",
      "Processing Record 10 of Set 8 | batabano\n",
      "Processing Record 11 of Set 8 | pitimbu\n",
      "Processing Record 12 of Set 8 | kasongo-lunda\n",
      "Processing Record 13 of Set 8 | along\n",
      "Processing Record 14 of Set 8 | kiama\n",
      "Processing Record 15 of Set 8 | City not found. Skipping...\n",
      "Processing Record 16 of Set 8 | pangai\n",
      "Processing Record 17 of Set 8 | balingasay\n",
      "Processing Record 18 of Set 8 | City not found. Skipping...\n",
      "Processing Record 19 of Set 8 | te anau\n",
      "Processing Record 20 of Set 8 | hofn\n",
      "Processing Record 21 of Set 8 | saint-pierre\n",
      "Processing Record 22 of Set 8 | burgeo\n",
      "Processing Record 23 of Set 8 | puri\n",
      "Processing Record 24 of Set 8 | dalbandin\n",
      "Processing Record 25 of Set 8 | erzin\n",
      "Processing Record 26 of Set 8 | boundiali\n",
      "Processing Record 27 of Set 8 | suntar\n",
      "Processing Record 28 of Set 8 | atar\n",
      "Processing Record 29 of Set 8 | esso\n",
      "Processing Record 30 of Set 8 | dudinka\n",
      "Processing Record 31 of Set 8 | cidreira\n",
      "Processing Record 32 of Set 8 | nikolskoye\n",
      "Processing Record 33 of Set 8 | lavrentiya\n",
      "Processing Record 34 of Set 8 | walvis bay\n",
      "Processing Record 35 of Set 8 | ishigaki\n",
      "Processing Record 36 of Set 8 | palmer\n"
     ]
    },
    {
     "name": "stdout",
     "output_type": "stream",
     "text": [
      "Processing Record 37 of Set 8 | berlevag\n",
      "Processing Record 38 of Set 8 | leticia\n",
      "Processing Record 39 of Set 8 | bilibino\n",
      "Processing Record 40 of Set 8 | sarangani\n",
      "Processing Record 41 of Set 8 | impfondo\n",
      "Processing Record 42 of Set 8 | sarahan\n",
      "Processing Record 43 of Set 8 | severo-yeniseyskiy\n",
      "Processing Record 44 of Set 8 | bredasdorp\n",
      "Processing Record 45 of Set 8 | lorengau\n",
      "Processing Record 46 of Set 8 | marzuq\n",
      "Processing Record 47 of Set 8 | alice springs\n",
      "Processing Record 48 of Set 8 | gallup\n",
      "Processing Record 49 of Set 8 | morondava\n",
      "Processing Record 0 of Set 9 | City not found. Skipping...\n",
      "Processing Record 1 of Set 9 | City not found. Skipping...\n",
      "Processing Record 2 of Set 9 | bezhetsk\n",
      "Processing Record 3 of Set 9 | igarka\n",
      "Processing Record 4 of Set 9 | arcachon\n",
      "Processing Record 5 of Set 9 | acapulco\n",
      "Processing Record 6 of Set 9 | tabory\n",
      "Processing Record 7 of Set 9 | mitchell\n",
      "Processing Record 8 of Set 9 | biak\n",
      "Processing Record 9 of Set 9 | bull savanna\n",
      "Processing Record 10 of Set 9 | City not found. Skipping...\n",
      "Processing Record 11 of Set 9 | oriximina\n",
      "Processing Record 12 of Set 9 | belaya gora\n",
      "Processing Record 13 of Set 9 | kerouane\n",
      "Processing Record 14 of Set 9 | lucapa\n",
      "Processing Record 15 of Set 9 | talagang\n",
      "Processing Record 16 of Set 9 | gorontalo\n",
      "Processing Record 17 of Set 9 | tra vinh\n",
      "Processing Record 18 of Set 9 | buraydah\n",
      "Processing Record 19 of Set 9 | broome\n",
      "Processing Record 20 of Set 9 | chifeng\n",
      "Processing Record 21 of Set 9 | aguimes\n",
      "Processing Record 22 of Set 9 | casablanca\n",
      "Processing Record 23 of Set 9 | oytal\n",
      "Processing Record 24 of Set 9 | pisco\n",
      "Processing Record 25 of Set 9 | nogliki\n",
      "Processing Record 26 of Set 9 | varnavino\n",
      "Processing Record 27 of Set 9 | tuatapere\n",
      "Processing Record 28 of Set 9 | fairbanks\n",
      "Processing Record 29 of Set 9 | poum\n",
      "Processing Record 30 of Set 9 | hovd\n",
      "Processing Record 31 of Set 9 | zhigalovo\n",
      "Processing Record 32 of Set 9 | tynda\n",
      "Processing Record 33 of Set 9 | City not found. Skipping...\n",
      "Processing Record 34 of Set 9 | saint george\n",
      "Processing Record 35 of Set 9 | nchelenge\n",
      "Processing Record 36 of Set 9 | beausejour\n",
      "Processing Record 37 of Set 9 | beisfjord\n",
      "Processing Record 38 of Set 9 | lexington\n",
      "Processing Record 39 of Set 9 | egvekinot\n",
      "Processing Record 40 of Set 9 | kharp\n",
      "Processing Record 41 of Set 9 | kushima\n",
      "Processing Record 42 of Set 9 | dauriya\n",
      "Processing Record 43 of Set 9 | nicoya\n",
      "Processing Record 44 of Set 9 | yulara\n",
      "Processing Record 45 of Set 9 | paramonga\n",
      "Processing Record 46 of Set 9 | san vicente\n",
      "Processing Record 47 of Set 9 | sosnovo\n",
      "Processing Record 48 of Set 9 | bulgan\n",
      "Processing Record 49 of Set 9 | oltu\n",
      "Processing Record 0 of Set 10 | langham\n",
      "Processing Record 1 of Set 10 | punta alta\n",
      "Processing Record 2 of Set 10 | City not found. Skipping...\n",
      "Processing Record 3 of Set 10 | shimoda\n",
      "Processing Record 4 of Set 10 | kloulklubed\n",
      "Processing Record 5 of Set 10 | kovdor\n",
      "Processing Record 6 of Set 10 | fohnsdorf\n",
      "Processing Record 7 of Set 10 | blacksburg\n",
      "Processing Record 8 of Set 10 | yazd\n",
      "Processing Record 9 of Set 10 | kayakent\n",
      "Processing Record 10 of Set 10 | City not found. Skipping...\n",
      "Processing Record 11 of Set 10 | keetmanshoop\n",
      "Processing Record 12 of Set 10 | mbocayaty\n",
      "Processing Record 13 of Set 10 | rocha\n",
      "Processing Record 14 of Set 10 | zabaykalsk\n",
      "Processing Record 15 of Set 10 | ahipara\n",
      "Processing Record 16 of Set 10 | leninskoye\n",
      "Processing Record 17 of Set 10 | boa vista\n",
      "Processing Record 18 of Set 10 | contamana\n",
      "Processing Record 19 of Set 10 | la ronge\n",
      "Processing Record 20 of Set 10 | niksar\n",
      "Processing Record 21 of Set 10 | babu\n",
      "Processing Record 22 of Set 10 | sidi ali\n",
      "Processing Record 23 of Set 10 | nova granada\n",
      "Processing Record 24 of Set 10 | popondetta\n",
      "Processing Record 25 of Set 10 | aksu\n",
      "Processing Record 26 of Set 10 | City not found. Skipping...\n",
      "Processing Record 27 of Set 10 | wukari\n",
      "Processing Record 28 of Set 10 | kem\n",
      "Processing Record 29 of Set 10 | City not found. Skipping...\n",
      "Processing Record 30 of Set 10 | karabulak\n",
      "Processing Record 31 of Set 10 | ayacucho\n",
      "Processing Record 32 of Set 10 | duekoue\n",
      "Processing Record 33 of Set 10 | san rafael\n",
      "Processing Record 34 of Set 10 | darhan\n",
      "Processing Record 35 of Set 10 | peace river\n",
      "Processing Record 36 of Set 10 | zamania\n",
      "Processing Record 37 of Set 10 | san jeronimo\n",
      "Processing Record 38 of Set 10 | waddan\n",
      "Processing Record 39 of Set 10 | zhezkazgan\n",
      "Processing Record 40 of Set 10 | roald\n",
      "Processing Record 41 of Set 10 | rio brilhante\n",
      "Processing Record 42 of Set 10 | manta\n",
      "Processing Record 43 of Set 10 | doha\n",
      "Processing Record 44 of Set 10 | jalu\n",
      "Processing Record 45 of Set 10 | isangel\n",
      "Processing Record 46 of Set 10 | vathi\n",
      "Processing Record 47 of Set 10 | City not found. Skipping...\n",
      "Processing Record 48 of Set 10 | aktas\n",
      "Processing Record 49 of Set 10 | mitu\n",
      "Processing Record 0 of Set 11 | buala\n",
      "Processing Record 1 of Set 11 | verkhniy lomov\n",
      "Processing Record 2 of Set 11 | City not found. Skipping...\n",
      "Processing Record 3 of Set 11 | hasaki\n",
      "Processing Record 4 of Set 11 | yarada\n",
      "Processing Record 5 of Set 11 | bien hoa\n",
      "Processing Record 6 of Set 11 | ust-omchug\n",
      "Processing Record 7 of Set 11 | manzhouli\n",
      "Processing Record 8 of Set 11 | kadoma\n",
      "Processing Record 9 of Set 11 | panzhihua\n",
      "Processing Record 10 of Set 11 | maniitsoq\n",
      "Processing Record 11 of Set 11 | ndele\n",
      "Processing Record 12 of Set 11 | shelburne\n",
      "Processing Record 13 of Set 11 | laela\n",
      "Processing Record 14 of Set 11 | kuusamo\n",
      "Processing Record 15 of Set 11 | mareeba\n",
      "Processing Record 16 of Set 11 | verkhoyansk\n",
      "Processing Record 17 of Set 11 | oranjemund\n",
      "Processing Record 18 of Set 11 | narkevychi\n",
      "Processing Record 19 of Set 11 | vila franca do campo\n",
      "Processing Record 20 of Set 11 | jinchang\n",
      "Processing Record 21 of Set 11 | novyy urengoy\n",
      "Processing Record 22 of Set 11 | adre\n",
      "Processing Record 23 of Set 11 | camacha\n",
      "Processing Record 24 of Set 11 | denpasar\n",
      "Processing Record 25 of Set 11 | urambo\n",
      "Processing Record 26 of Set 11 | zyryanka\n",
      "Processing Record 27 of Set 11 | san cristobal\n",
      "Processing Record 28 of Set 11 | tezu\n",
      "Processing Record 29 of Set 11 | chiang khong\n",
      "Processing Record 30 of Set 11 | nouakchott\n",
      "Processing Record 31 of Set 11 | lipin bor\n",
      "Processing Record 32 of Set 11 | kokopo\n",
      "Processing Record 33 of Set 11 | yeppoon\n",
      "Processing Record 34 of Set 11 | emerald\n",
      "Processing Record 35 of Set 11 | tres arroyos\n",
      "Processing Record 36 of Set 11 | City not found. Skipping...\n",
      "Processing Record 37 of Set 11 | toamasina\n",
      "Processing Record 38 of Set 11 | kampot\n",
      "Processing Record 39 of Set 11 | lagoa\n",
      "Processing Record 40 of Set 11 | City not found. Skipping...\n",
      "Processing Record 41 of Set 11 | wanning\n",
      "Processing Record 42 of Set 11 | sistranda\n",
      "Processing Record 43 of Set 11 | soyo\n",
      "Processing Record 44 of Set 11 | nemuro\n",
      "Processing Record 45 of Set 11 | vieques\n",
      "Processing Record 46 of Set 11 | arica\n",
      "Processing Record 47 of Set 11 | batagay-alyta\n",
      "Processing Record 48 of Set 11 | lixourion\n",
      "Processing Record 49 of Set 11 | mayor pablo lagerenza\n",
      "Processing Record 0 of Set 12 | aba\n",
      "Processing Record 1 of Set 12 | benghazi\n",
      "Processing Record 2 of Set 12 | yinchuan\n",
      "Processing Record 3 of Set 12 | narsaq\n",
      "Processing Record 4 of Set 12 | City not found. Skipping...\n",
      "Processing Record 5 of Set 12 | yarensk\n",
      "Processing Record 6 of Set 12 | barberton\n",
      "Processing Record 7 of Set 12 | xuanhua\n",
      "Processing Record 8 of Set 12 | zhigansk\n",
      "Processing Record 9 of Set 12 | schieder-schwalenberg\n",
      "Processing Record 10 of Set 12 | sopelana\n",
      "Processing Record 11 of Set 12 | santa cruz del sur\n",
      "Processing Record 12 of Set 12 | umm kaddadah\n",
      "Processing Record 13 of Set 12 | aksay\n",
      "Processing Record 14 of Set 12 | ongandjera\n",
      "Processing Record 15 of Set 12 | kysyl-syr\n",
      "Processing Record 16 of Set 12 | antalaha\n",
      "Processing Record 17 of Set 12 | City not found. Skipping...\n",
      "Processing Record 18 of Set 12 | la sarre\n",
      "Processing Record 19 of Set 12 | sovetskiy\n",
      "Processing Record 20 of Set 12 | dong hoi\n",
      "Processing Record 21 of Set 12 | ajdabiya\n",
      "Processing Record 22 of Set 12 | bubaque\n",
      "Processing Record 23 of Set 12 | russell\n",
      "Processing Record 24 of Set 12 | gornyy\n",
      "Processing Record 25 of Set 12 | talaya\n",
      "Processing Record 26 of Set 12 | areka\n",
      "Processing Record 27 of Set 12 | alta floresta\n"
     ]
    },
    {
     "name": "stdout",
     "output_type": "stream",
     "text": [
      "Processing Record 28 of Set 12 | manono\n",
      "Processing Record 29 of Set 12 | san patricio\n",
      "Processing Record 30 of Set 12 | krasnoselkup\n",
      "Processing Record 31 of Set 12 | monrovia\n",
      "Processing Record 32 of Set 12 | barra do garcas\n",
      "Processing Record 33 of Set 12 | yagodnoye\n",
      "Processing Record 34 of Set 12 | City not found. Skipping...\n",
      "Processing Record 35 of Set 12 | alghero\n",
      "Processing Record 36 of Set 12 | okato\n",
      "Processing Record 37 of Set 12 | almeria\n",
      "Processing Record 38 of Set 12 | bondo\n",
      "Processing Record 39 of Set 12 | bosaso\n",
      "Processing Record 40 of Set 12 | takestan\n",
      "Processing Record 41 of Set 12 | isabela\n",
      "Processing Record 42 of Set 12 | lompoc\n",
      "Processing Record 43 of Set 12 | nueva guinea\n",
      "Processing Record 44 of Set 12 | noumea\n",
      "Processing Record 45 of Set 12 | touros\n",
      "Processing Record 46 of Set 12 | pacific grove\n",
      "Processing Record 47 of Set 12 | nagato\n",
      "Processing Record 48 of Set 12 | doka\n",
      "Processing Record 49 of Set 12 | mesyagutovo\n",
      "Processing Record 0 of Set 13 | half moon bay\n",
      "Processing Record 1 of Set 13 | antofagasta\n",
      "Processing Record 2 of Set 13 | brae\n",
      "Processing Record 3 of Set 13 | cabo san lucas\n",
      "Processing Record 4 of Set 13 | ust-nera\n",
      "Processing Record 5 of Set 13 | aktash\n",
      "Processing Record 6 of Set 13 | beyneu\n",
      "Processing Record 7 of Set 13 | zhangjiakou\n",
      "Processing Record 8 of Set 13 | panjab\n",
      "Processing Record 9 of Set 13 | coromandel\n",
      "Processing Record 10 of Set 13 | rosarito\n",
      "Processing Record 11 of Set 13 | anadyr\n",
      "Processing Record 12 of Set 13 | qaqortoq\n",
      "Processing Record 13 of Set 13 | venezuela\n",
      "Processing Record 14 of Set 13 | salekhard\n",
      "Processing Record 15 of Set 13 | kilis\n",
      "Processing Record 16 of Set 13 | mubi\n",
      "Processing Record 17 of Set 13 | naliya\n",
      "Processing Record 18 of Set 13 | muros\n",
      "Processing Record 19 of Set 13 | krasnozerskoye\n",
      "Processing Record 20 of Set 13 | jardim\n",
      "Processing Record 21 of Set 13 | narrabri\n",
      "\n"
     ]
    }
   ],
   "source": [
    "# Create new dataframe to store the weather data\n",
    "weather_df = pd.DataFrame()\n",
    "\n",
    "print(f'Beginning Data Retrieval')\n",
    "print(f'-----------------------------')\n",
    "\n",
    "# Loop through the cities list and pull the weather data from weather API\n",
    "for i in tqdm(range(len(cities))):\n",
    "    city_name = cities[i]\n",
    "    weather_url = f'https://api.openweathermap.org/data/2.5/weather?q={city_name}&appid={weather_api_key}'\n",
    "    # Request weather data from API\n",
    "    weather_api_data = requests.get(weather_url).json()\n",
    "    if weather_api_data['cod'] == '404':\n",
    "        print(f'Processing Record {(i+1)%50} of Set {int((i+1)/50)+1} | City not found. Skipping...')\n",
    "        continue\n",
    "    else:\n",
    "        # Append weather data into weather_df\n",
    "        weather_df = weather_df.append([[city_name, \n",
    "                                weather_api_data['coord']['lat'],\n",
    "                                weather_api_data['coord']['lon'],\n",
    "                                weather_api_data['main']['temp_max'],\n",
    "                                weather_api_data['main']['humidity'],\n",
    "                                weather_api_data['clouds']['all'],\n",
    "                                weather_api_data['wind']['speed'],\n",
    "                                weather_api_data['sys']['country'],\n",
    "                                weather_api_data['dt']                           \n",
    "                               ]])\n",
    "        print(f'Processing Record {(i+1)%50} of Set {int((i+1)/50)+1} | {city_name}')\n",
    "\n"
   ]
  },
  {
   "cell_type": "code",
   "execution_count": 4,
   "metadata": {},
   "outputs": [],
   "source": [
    "# Reset the columns name\n",
    "weather_df.columns=['City', 'Lat', 'Lng', 'Max Temp', 'Humidity', 'Cloudiness', 'Wind Speed', 'Country', 'Date']\n",
    "# Reset the rows index\n",
    "weather_df = weather_df.reset_index(drop=True)\n",
    "# Store the data back to csv\n",
    "weather_df.to_csv(output_data_file, index=False)"
   ]
  },
  {
   "cell_type": "markdown",
   "metadata": {},
   "source": [
    "### Convert Raw Data to DataFrame\n",
    "* Export the city data into a .csv.\n",
    "* Display the DataFrame"
   ]
  },
  {
   "cell_type": "code",
   "execution_count": 5,
   "metadata": {},
   "outputs": [
    {
     "name": "stdout",
     "output_type": "stream",
     "text": [
      "<class 'pandas.core.frame.DataFrame'>\n",
      "RangeIndex: 576 entries, 0 to 575\n",
      "Data columns (total 9 columns):\n",
      " #   Column      Non-Null Count  Dtype  \n",
      "---  ------      --------------  -----  \n",
      " 0   City        576 non-null    object \n",
      " 1   Lat         576 non-null    float64\n",
      " 2   Lng         576 non-null    float64\n",
      " 3   Max Temp    576 non-null    float64\n",
      " 4   Humidity    576 non-null    int64  \n",
      " 5   Cloudiness  576 non-null    int64  \n",
      " 6   Wind Speed  576 non-null    float64\n",
      " 7   Country     576 non-null    object \n",
      " 8   Date        576 non-null    int64  \n",
      "dtypes: float64(4), int64(3), object(2)\n",
      "memory usage: 40.6+ KB\n"
     ]
    }
   ],
   "source": [
    "# Print the weather_df information\n",
    "weather_df.info()"
   ]
  },
  {
   "cell_type": "code",
   "execution_count": 6,
   "metadata": {},
   "outputs": [
    {
     "data": {
      "text/html": [
       "<div>\n",
       "<style scoped>\n",
       "    .dataframe tbody tr th:only-of-type {\n",
       "        vertical-align: middle;\n",
       "    }\n",
       "\n",
       "    .dataframe tbody tr th {\n",
       "        vertical-align: top;\n",
       "    }\n",
       "\n",
       "    .dataframe thead th {\n",
       "        text-align: right;\n",
       "    }\n",
       "</style>\n",
       "<table border=\"1\" class=\"dataframe\">\n",
       "  <thead>\n",
       "    <tr style=\"text-align: right;\">\n",
       "      <th></th>\n",
       "      <th>City</th>\n",
       "      <th>Lat</th>\n",
       "      <th>Lng</th>\n",
       "      <th>Max Temp</th>\n",
       "      <th>Humidity</th>\n",
       "      <th>Cloudiness</th>\n",
       "      <th>Wind Speed</th>\n",
       "      <th>Country</th>\n",
       "      <th>Date</th>\n",
       "    </tr>\n",
       "  </thead>\n",
       "  <tbody>\n",
       "    <tr>\n",
       "      <th>0</th>\n",
       "      <td>ancud</td>\n",
       "      <td>-41.87</td>\n",
       "      <td>-73.82</td>\n",
       "      <td>284.82</td>\n",
       "      <td>93</td>\n",
       "      <td>75</td>\n",
       "      <td>7.70</td>\n",
       "      <td>CL</td>\n",
       "      <td>1589057451</td>\n",
       "    </tr>\n",
       "    <tr>\n",
       "      <th>1</th>\n",
       "      <td>pangnirtung</td>\n",
       "      <td>66.15</td>\n",
       "      <td>-65.71</td>\n",
       "      <td>272.97</td>\n",
       "      <td>92</td>\n",
       "      <td>100</td>\n",
       "      <td>2.65</td>\n",
       "      <td>CA</td>\n",
       "      <td>1589057692</td>\n",
       "    </tr>\n",
       "    <tr>\n",
       "      <th>2</th>\n",
       "      <td>provideniya</td>\n",
       "      <td>64.38</td>\n",
       "      <td>-173.30</td>\n",
       "      <td>277.12</td>\n",
       "      <td>76</td>\n",
       "      <td>100</td>\n",
       "      <td>11.46</td>\n",
       "      <td>RU</td>\n",
       "      <td>1589057692</td>\n",
       "    </tr>\n",
       "    <tr>\n",
       "      <th>3</th>\n",
       "      <td>praya</td>\n",
       "      <td>14.92</td>\n",
       "      <td>-23.51</td>\n",
       "      <td>296.15</td>\n",
       "      <td>73</td>\n",
       "      <td>75</td>\n",
       "      <td>8.20</td>\n",
       "      <td>CV</td>\n",
       "      <td>1589057417</td>\n",
       "    </tr>\n",
       "    <tr>\n",
       "      <th>4</th>\n",
       "      <td>solnechnyy</td>\n",
       "      <td>50.72</td>\n",
       "      <td>136.63</td>\n",
       "      <td>281.84</td>\n",
       "      <td>59</td>\n",
       "      <td>100</td>\n",
       "      <td>1.11</td>\n",
       "      <td>RU</td>\n",
       "      <td>1589057693</td>\n",
       "    </tr>\n",
       "  </tbody>\n",
       "</table>\n",
       "</div>"
      ],
      "text/plain": [
       "          City    Lat     Lng  Max Temp  Humidity  Cloudiness  Wind Speed  \\\n",
       "0        ancud -41.87  -73.82    284.82        93          75        7.70   \n",
       "1  pangnirtung  66.15  -65.71    272.97        92         100        2.65   \n",
       "2  provideniya  64.38 -173.30    277.12        76         100       11.46   \n",
       "3        praya  14.92  -23.51    296.15        73          75        8.20   \n",
       "4   solnechnyy  50.72  136.63    281.84        59         100        1.11   \n",
       "\n",
       "  Country        Date  \n",
       "0      CL  1589057451  \n",
       "1      CA  1589057692  \n",
       "2      RU  1589057692  \n",
       "3      CV  1589057417  \n",
       "4      RU  1589057693  "
      ]
     },
     "execution_count": 6,
     "metadata": {},
     "output_type": "execute_result"
    }
   ],
   "source": [
    "# Print weather_df\n",
    "weather_df.head()"
   ]
  },
  {
   "cell_type": "markdown",
   "metadata": {},
   "source": [
    "## Inspect the data and remove the cities where the humidity > 100%.\n",
    "----\n",
    "Skip this step if there are no cities that have humidity > 100%. "
   ]
  },
  {
   "cell_type": "code",
   "execution_count": 7,
   "metadata": {},
   "outputs": [
    {
     "data": {
      "text/html": [
       "<div>\n",
       "<style scoped>\n",
       "    .dataframe tbody tr th:only-of-type {\n",
       "        vertical-align: middle;\n",
       "    }\n",
       "\n",
       "    .dataframe tbody tr th {\n",
       "        vertical-align: top;\n",
       "    }\n",
       "\n",
       "    .dataframe thead th {\n",
       "        text-align: right;\n",
       "    }\n",
       "</style>\n",
       "<table border=\"1\" class=\"dataframe\">\n",
       "  <thead>\n",
       "    <tr style=\"text-align: right;\">\n",
       "      <th></th>\n",
       "      <th>Lat</th>\n",
       "      <th>Lng</th>\n",
       "      <th>Max Temp</th>\n",
       "      <th>Humidity</th>\n",
       "      <th>Cloudiness</th>\n",
       "      <th>Wind Speed</th>\n",
       "      <th>Date</th>\n",
       "    </tr>\n",
       "  </thead>\n",
       "  <tbody>\n",
       "    <tr>\n",
       "      <th>count</th>\n",
       "      <td>576.000000</td>\n",
       "      <td>576.000000</td>\n",
       "      <td>576.000000</td>\n",
       "      <td>576.000000</td>\n",
       "      <td>576.000000</td>\n",
       "      <td>576.000000</td>\n",
       "      <td>5.760000e+02</td>\n",
       "    </tr>\n",
       "    <tr>\n",
       "      <th>mean</th>\n",
       "      <td>19.909097</td>\n",
       "      <td>18.837222</td>\n",
       "      <td>290.280191</td>\n",
       "      <td>69.321181</td>\n",
       "      <td>48.960069</td>\n",
       "      <td>3.817552</td>\n",
       "      <td>1.589058e+09</td>\n",
       "    </tr>\n",
       "    <tr>\n",
       "      <th>std</th>\n",
       "      <td>32.987583</td>\n",
       "      <td>89.314952</td>\n",
       "      <td>10.195440</td>\n",
       "      <td>22.648220</td>\n",
       "      <td>38.683781</td>\n",
       "      <td>2.836520</td>\n",
       "      <td>1.094752e+02</td>\n",
       "    </tr>\n",
       "    <tr>\n",
       "      <th>min</th>\n",
       "      <td>-54.800000</td>\n",
       "      <td>-179.170000</td>\n",
       "      <td>262.640000</td>\n",
       "      <td>3.000000</td>\n",
       "      <td>0.000000</td>\n",
       "      <td>0.060000</td>\n",
       "      <td>1.589057e+09</td>\n",
       "    </tr>\n",
       "    <tr>\n",
       "      <th>25%</th>\n",
       "      <td>-7.307500</td>\n",
       "      <td>-59.822500</td>\n",
       "      <td>282.940000</td>\n",
       "      <td>55.000000</td>\n",
       "      <td>6.000000</td>\n",
       "      <td>1.767500</td>\n",
       "      <td>1.589058e+09</td>\n",
       "    </tr>\n",
       "    <tr>\n",
       "      <th>50%</th>\n",
       "      <td>22.185000</td>\n",
       "      <td>26.035000</td>\n",
       "      <td>291.935000</td>\n",
       "      <td>76.000000</td>\n",
       "      <td>45.000000</td>\n",
       "      <td>3.100000</td>\n",
       "      <td>1.589058e+09</td>\n",
       "    </tr>\n",
       "    <tr>\n",
       "      <th>75%</th>\n",
       "      <td>47.675000</td>\n",
       "      <td>93.142500</td>\n",
       "      <td>298.997500</td>\n",
       "      <td>87.000000</td>\n",
       "      <td>90.000000</td>\n",
       "      <td>5.100000</td>\n",
       "      <td>1.589058e+09</td>\n",
       "    </tr>\n",
       "    <tr>\n",
       "      <th>max</th>\n",
       "      <td>78.220000</td>\n",
       "      <td>179.320000</td>\n",
       "      <td>310.370000</td>\n",
       "      <td>100.000000</td>\n",
       "      <td>100.000000</td>\n",
       "      <td>28.000000</td>\n",
       "      <td>1.589058e+09</td>\n",
       "    </tr>\n",
       "  </tbody>\n",
       "</table>\n",
       "</div>"
      ],
      "text/plain": [
       "              Lat         Lng    Max Temp    Humidity  Cloudiness  Wind Speed  \\\n",
       "count  576.000000  576.000000  576.000000  576.000000  576.000000  576.000000   \n",
       "mean    19.909097   18.837222  290.280191   69.321181   48.960069    3.817552   \n",
       "std     32.987583   89.314952   10.195440   22.648220   38.683781    2.836520   \n",
       "min    -54.800000 -179.170000  262.640000    3.000000    0.000000    0.060000   \n",
       "25%     -7.307500  -59.822500  282.940000   55.000000    6.000000    1.767500   \n",
       "50%     22.185000   26.035000  291.935000   76.000000   45.000000    3.100000   \n",
       "75%     47.675000   93.142500  298.997500   87.000000   90.000000    5.100000   \n",
       "max     78.220000  179.320000  310.370000  100.000000  100.000000   28.000000   \n",
       "\n",
       "               Date  \n",
       "count  5.760000e+02  \n",
       "mean   1.589058e+09  \n",
       "std    1.094752e+02  \n",
       "min    1.589057e+09  \n",
       "25%    1.589058e+09  \n",
       "50%    1.589058e+09  \n",
       "75%    1.589058e+09  \n",
       "max    1.589058e+09  "
      ]
     },
     "execution_count": 7,
     "metadata": {},
     "output_type": "execute_result"
    }
   ],
   "source": [
    "# Check if weather_df has any humidity > 100%\n",
    "weather_df.describe()"
   ]
  },
  {
   "cell_type": "code",
   "execution_count": 8,
   "metadata": {},
   "outputs": [
    {
     "data": {
      "text/html": [
       "<div>\n",
       "<style scoped>\n",
       "    .dataframe tbody tr th:only-of-type {\n",
       "        vertical-align: middle;\n",
       "    }\n",
       "\n",
       "    .dataframe tbody tr th {\n",
       "        vertical-align: top;\n",
       "    }\n",
       "\n",
       "    .dataframe thead th {\n",
       "        text-align: right;\n",
       "    }\n",
       "</style>\n",
       "<table border=\"1\" class=\"dataframe\">\n",
       "  <thead>\n",
       "    <tr style=\"text-align: right;\">\n",
       "      <th></th>\n",
       "      <th>City</th>\n",
       "      <th>Lat</th>\n",
       "      <th>Lng</th>\n",
       "      <th>Max Temp</th>\n",
       "      <th>Humidity</th>\n",
       "      <th>Cloudiness</th>\n",
       "      <th>Wind Speed</th>\n",
       "      <th>Country</th>\n",
       "      <th>Date</th>\n",
       "    </tr>\n",
       "  </thead>\n",
       "  <tbody>\n",
       "    <tr>\n",
       "      <th>0</th>\n",
       "      <td>ancud</td>\n",
       "      <td>-41.87</td>\n",
       "      <td>-73.82</td>\n",
       "      <td>284.82</td>\n",
       "      <td>93</td>\n",
       "      <td>75</td>\n",
       "      <td>7.70</td>\n",
       "      <td>CL</td>\n",
       "      <td>1589057451</td>\n",
       "    </tr>\n",
       "    <tr>\n",
       "      <th>1</th>\n",
       "      <td>pangnirtung</td>\n",
       "      <td>66.15</td>\n",
       "      <td>-65.71</td>\n",
       "      <td>272.97</td>\n",
       "      <td>92</td>\n",
       "      <td>100</td>\n",
       "      <td>2.65</td>\n",
       "      <td>CA</td>\n",
       "      <td>1589057692</td>\n",
       "    </tr>\n",
       "    <tr>\n",
       "      <th>2</th>\n",
       "      <td>provideniya</td>\n",
       "      <td>64.38</td>\n",
       "      <td>-173.30</td>\n",
       "      <td>277.12</td>\n",
       "      <td>76</td>\n",
       "      <td>100</td>\n",
       "      <td>11.46</td>\n",
       "      <td>RU</td>\n",
       "      <td>1589057692</td>\n",
       "    </tr>\n",
       "    <tr>\n",
       "      <th>3</th>\n",
       "      <td>praya</td>\n",
       "      <td>14.92</td>\n",
       "      <td>-23.51</td>\n",
       "      <td>296.15</td>\n",
       "      <td>73</td>\n",
       "      <td>75</td>\n",
       "      <td>8.20</td>\n",
       "      <td>CV</td>\n",
       "      <td>1589057417</td>\n",
       "    </tr>\n",
       "    <tr>\n",
       "      <th>4</th>\n",
       "      <td>solnechnyy</td>\n",
       "      <td>50.72</td>\n",
       "      <td>136.63</td>\n",
       "      <td>281.84</td>\n",
       "      <td>59</td>\n",
       "      <td>100</td>\n",
       "      <td>1.11</td>\n",
       "      <td>RU</td>\n",
       "      <td>1589057693</td>\n",
       "    </tr>\n",
       "    <tr>\n",
       "      <th>...</th>\n",
       "      <td>...</td>\n",
       "      <td>...</td>\n",
       "      <td>...</td>\n",
       "      <td>...</td>\n",
       "      <td>...</td>\n",
       "      <td>...</td>\n",
       "      <td>...</td>\n",
       "      <td>...</td>\n",
       "      <td>...</td>\n",
       "    </tr>\n",
       "    <tr>\n",
       "      <th>572</th>\n",
       "      <td>muros</td>\n",
       "      <td>42.78</td>\n",
       "      <td>-9.06</td>\n",
       "      <td>287.59</td>\n",
       "      <td>88</td>\n",
       "      <td>51</td>\n",
       "      <td>2.68</td>\n",
       "      <td>ES</td>\n",
       "      <td>1589057950</td>\n",
       "    </tr>\n",
       "    <tr>\n",
       "      <th>573</th>\n",
       "      <td>krasnozerskoye</td>\n",
       "      <td>53.98</td>\n",
       "      <td>79.24</td>\n",
       "      <td>286.32</td>\n",
       "      <td>71</td>\n",
       "      <td>0</td>\n",
       "      <td>3.70</td>\n",
       "      <td>RU</td>\n",
       "      <td>1589057950</td>\n",
       "    </tr>\n",
       "    <tr>\n",
       "      <th>574</th>\n",
       "      <td>jardim</td>\n",
       "      <td>-21.48</td>\n",
       "      <td>-56.14</td>\n",
       "      <td>294.80</td>\n",
       "      <td>52</td>\n",
       "      <td>0</td>\n",
       "      <td>1.54</td>\n",
       "      <td>BR</td>\n",
       "      <td>1589057950</td>\n",
       "    </tr>\n",
       "    <tr>\n",
       "      <th>575</th>\n",
       "      <td>narrabri</td>\n",
       "      <td>-30.32</td>\n",
       "      <td>149.78</td>\n",
       "      <td>282.59</td>\n",
       "      <td>81</td>\n",
       "      <td>0</td>\n",
       "      <td>3.10</td>\n",
       "      <td>AU</td>\n",
       "      <td>1589057951</td>\n",
       "    </tr>\n",
       "    <tr>\n",
       "      <th>576</th>\n",
       "      <td>test_for_hum</td>\n",
       "      <td>1.00</td>\n",
       "      <td>1.00</td>\n",
       "      <td>273.00</td>\n",
       "      <td>101</td>\n",
       "      <td>0</td>\n",
       "      <td>1.50</td>\n",
       "      <td>US</td>\n",
       "      <td>1588986960</td>\n",
       "    </tr>\n",
       "  </tbody>\n",
       "</table>\n",
       "<p>577 rows × 9 columns</p>\n",
       "</div>"
      ],
      "text/plain": [
       "               City    Lat     Lng  Max Temp  Humidity  Cloudiness  \\\n",
       "0             ancud -41.87  -73.82    284.82        93          75   \n",
       "1       pangnirtung  66.15  -65.71    272.97        92         100   \n",
       "2       provideniya  64.38 -173.30    277.12        76         100   \n",
       "3             praya  14.92  -23.51    296.15        73          75   \n",
       "4        solnechnyy  50.72  136.63    281.84        59         100   \n",
       "..              ...    ...     ...       ...       ...         ...   \n",
       "572           muros  42.78   -9.06    287.59        88          51   \n",
       "573  krasnozerskoye  53.98   79.24    286.32        71           0   \n",
       "574          jardim -21.48  -56.14    294.80        52           0   \n",
       "575        narrabri -30.32  149.78    282.59        81           0   \n",
       "576    test_for_hum   1.00    1.00    273.00       101           0   \n",
       "\n",
       "     Wind Speed Country        Date  \n",
       "0          7.70      CL  1589057451  \n",
       "1          2.65      CA  1589057692  \n",
       "2         11.46      RU  1589057692  \n",
       "3          8.20      CV  1589057417  \n",
       "4          1.11      RU  1589057693  \n",
       "..          ...     ...         ...  \n",
       "572        2.68      ES  1589057950  \n",
       "573        3.70      RU  1589057950  \n",
       "574        1.54      BR  1589057950  \n",
       "575        3.10      AU  1589057951  \n",
       "576        1.50      US  1588986960  \n",
       "\n",
       "[577 rows x 9 columns]"
      ]
     },
     "execution_count": 8,
     "metadata": {},
     "output_type": "execute_result"
    }
   ],
   "source": [
    "# Create test dataframe for the humidity test since there is no humidity > 100% in the original data\n",
    "weather_test_df = weather_df.copy()\n",
    "# Append the test point into the weather_test_df\n",
    "weather_test_df = weather_test_df.append({'City':'test_for_hum', \n",
    "                        'Lat' : 1.0, \n",
    "                        'Lng' : 1.0, \n",
    "                        'Max Temp' : 273, \n",
    "                        'Humidity' : 101, \n",
    "                        'Cloudiness' : 0, \n",
    "                        'Wind Speed' : 1.5, \n",
    "                        'Country' : 'US', \n",
    "                        'Date' : 1588986960}, ignore_index=True)\n",
    "weather_test_df"
   ]
  },
  {
   "cell_type": "code",
   "execution_count": 9,
   "metadata": {},
   "outputs": [],
   "source": [
    "#  Get the indices of cities that have humidity over 100%.\n",
    "# Find the one that is less and equal to 100%\n",
    "hum_over_bool = (weather_test_df['Humidity'] <= 100)"
   ]
  },
  {
   "cell_type": "code",
   "execution_count": 10,
   "metadata": {},
   "outputs": [
    {
     "data": {
      "text/html": [
       "<div>\n",
       "<style scoped>\n",
       "    .dataframe tbody tr th:only-of-type {\n",
       "        vertical-align: middle;\n",
       "    }\n",
       "\n",
       "    .dataframe tbody tr th {\n",
       "        vertical-align: top;\n",
       "    }\n",
       "\n",
       "    .dataframe thead th {\n",
       "        text-align: right;\n",
       "    }\n",
       "</style>\n",
       "<table border=\"1\" class=\"dataframe\">\n",
       "  <thead>\n",
       "    <tr style=\"text-align: right;\">\n",
       "      <th></th>\n",
       "      <th>City</th>\n",
       "      <th>Lat</th>\n",
       "      <th>Lng</th>\n",
       "      <th>Max Temp</th>\n",
       "      <th>Humidity</th>\n",
       "      <th>Cloudiness</th>\n",
       "      <th>Wind Speed</th>\n",
       "      <th>Country</th>\n",
       "      <th>Date</th>\n",
       "    </tr>\n",
       "  </thead>\n",
       "  <tbody>\n",
       "    <tr>\n",
       "      <th>0</th>\n",
       "      <td>ancud</td>\n",
       "      <td>-41.87</td>\n",
       "      <td>-73.82</td>\n",
       "      <td>284.82</td>\n",
       "      <td>93</td>\n",
       "      <td>75</td>\n",
       "      <td>7.70</td>\n",
       "      <td>CL</td>\n",
       "      <td>1589057451</td>\n",
       "    </tr>\n",
       "    <tr>\n",
       "      <th>1</th>\n",
       "      <td>pangnirtung</td>\n",
       "      <td>66.15</td>\n",
       "      <td>-65.71</td>\n",
       "      <td>272.97</td>\n",
       "      <td>92</td>\n",
       "      <td>100</td>\n",
       "      <td>2.65</td>\n",
       "      <td>CA</td>\n",
       "      <td>1589057692</td>\n",
       "    </tr>\n",
       "    <tr>\n",
       "      <th>2</th>\n",
       "      <td>provideniya</td>\n",
       "      <td>64.38</td>\n",
       "      <td>-173.30</td>\n",
       "      <td>277.12</td>\n",
       "      <td>76</td>\n",
       "      <td>100</td>\n",
       "      <td>11.46</td>\n",
       "      <td>RU</td>\n",
       "      <td>1589057692</td>\n",
       "    </tr>\n",
       "    <tr>\n",
       "      <th>3</th>\n",
       "      <td>praya</td>\n",
       "      <td>14.92</td>\n",
       "      <td>-23.51</td>\n",
       "      <td>296.15</td>\n",
       "      <td>73</td>\n",
       "      <td>75</td>\n",
       "      <td>8.20</td>\n",
       "      <td>CV</td>\n",
       "      <td>1589057417</td>\n",
       "    </tr>\n",
       "    <tr>\n",
       "      <th>4</th>\n",
       "      <td>solnechnyy</td>\n",
       "      <td>50.72</td>\n",
       "      <td>136.63</td>\n",
       "      <td>281.84</td>\n",
       "      <td>59</td>\n",
       "      <td>100</td>\n",
       "      <td>1.11</td>\n",
       "      <td>RU</td>\n",
       "      <td>1589057693</td>\n",
       "    </tr>\n",
       "    <tr>\n",
       "      <th>...</th>\n",
       "      <td>...</td>\n",
       "      <td>...</td>\n",
       "      <td>...</td>\n",
       "      <td>...</td>\n",
       "      <td>...</td>\n",
       "      <td>...</td>\n",
       "      <td>...</td>\n",
       "      <td>...</td>\n",
       "      <td>...</td>\n",
       "    </tr>\n",
       "    <tr>\n",
       "      <th>571</th>\n",
       "      <td>naliya</td>\n",
       "      <td>23.27</td>\n",
       "      <td>68.83</td>\n",
       "      <td>299.54</td>\n",
       "      <td>89</td>\n",
       "      <td>0</td>\n",
       "      <td>4.26</td>\n",
       "      <td>IN</td>\n",
       "      <td>1589057949</td>\n",
       "    </tr>\n",
       "    <tr>\n",
       "      <th>572</th>\n",
       "      <td>muros</td>\n",
       "      <td>42.78</td>\n",
       "      <td>-9.06</td>\n",
       "      <td>287.59</td>\n",
       "      <td>88</td>\n",
       "      <td>51</td>\n",
       "      <td>2.68</td>\n",
       "      <td>ES</td>\n",
       "      <td>1589057950</td>\n",
       "    </tr>\n",
       "    <tr>\n",
       "      <th>573</th>\n",
       "      <td>krasnozerskoye</td>\n",
       "      <td>53.98</td>\n",
       "      <td>79.24</td>\n",
       "      <td>286.32</td>\n",
       "      <td>71</td>\n",
       "      <td>0</td>\n",
       "      <td>3.70</td>\n",
       "      <td>RU</td>\n",
       "      <td>1589057950</td>\n",
       "    </tr>\n",
       "    <tr>\n",
       "      <th>574</th>\n",
       "      <td>jardim</td>\n",
       "      <td>-21.48</td>\n",
       "      <td>-56.14</td>\n",
       "      <td>294.80</td>\n",
       "      <td>52</td>\n",
       "      <td>0</td>\n",
       "      <td>1.54</td>\n",
       "      <td>BR</td>\n",
       "      <td>1589057950</td>\n",
       "    </tr>\n",
       "    <tr>\n",
       "      <th>575</th>\n",
       "      <td>narrabri</td>\n",
       "      <td>-30.32</td>\n",
       "      <td>149.78</td>\n",
       "      <td>282.59</td>\n",
       "      <td>81</td>\n",
       "      <td>0</td>\n",
       "      <td>3.10</td>\n",
       "      <td>AU</td>\n",
       "      <td>1589057951</td>\n",
       "    </tr>\n",
       "  </tbody>\n",
       "</table>\n",
       "<p>576 rows × 9 columns</p>\n",
       "</div>"
      ],
      "text/plain": [
       "               City    Lat     Lng  Max Temp  Humidity  Cloudiness  \\\n",
       "0             ancud -41.87  -73.82    284.82        93          75   \n",
       "1       pangnirtung  66.15  -65.71    272.97        92         100   \n",
       "2       provideniya  64.38 -173.30    277.12        76         100   \n",
       "3             praya  14.92  -23.51    296.15        73          75   \n",
       "4        solnechnyy  50.72  136.63    281.84        59         100   \n",
       "..              ...    ...     ...       ...       ...         ...   \n",
       "571          naliya  23.27   68.83    299.54        89           0   \n",
       "572           muros  42.78   -9.06    287.59        88          51   \n",
       "573  krasnozerskoye  53.98   79.24    286.32        71           0   \n",
       "574          jardim -21.48  -56.14    294.80        52           0   \n",
       "575        narrabri -30.32  149.78    282.59        81           0   \n",
       "\n",
       "     Wind Speed Country        Date  \n",
       "0          7.70      CL  1589057451  \n",
       "1          2.65      CA  1589057692  \n",
       "2         11.46      RU  1589057692  \n",
       "3          8.20      CV  1589057417  \n",
       "4          1.11      RU  1589057693  \n",
       "..          ...     ...         ...  \n",
       "571        4.26      IN  1589057949  \n",
       "572        2.68      ES  1589057950  \n",
       "573        3.70      RU  1589057950  \n",
       "574        1.54      BR  1589057950  \n",
       "575        3.10      AU  1589057951  \n",
       "\n",
       "[576 rows x 9 columns]"
      ]
     },
     "execution_count": 10,
     "metadata": {},
     "output_type": "execute_result"
    }
   ],
   "source": [
    "# Make a new DataFrame equal to the city data to drop all humidity outliers by index.\n",
    "# Passing \"inplace=False\" will make a copy of the city_data DataFrame, which we call \"clean_city_data\".\n",
    "clean_city_data = weather_test_df.loc[hum_over_bool, :]\n",
    "clean_city_data"
   ]
  },
  {
   "cell_type": "code",
   "execution_count": 11,
   "metadata": {},
   "outputs": [],
   "source": [
    "# Extract relevant fields from the data frame\n",
    "\n",
    "\n",
    "# Export the City_Data into a csv\n"
   ]
  },
  {
   "cell_type": "markdown",
   "metadata": {},
   "source": [
    "## Plotting the Data\n",
    "* Use proper labeling of the plots using plot titles (including date of analysis) and axes labels.\n",
    "* Save the plotted figures as .pngs."
   ]
  },
  {
   "cell_type": "markdown",
   "metadata": {},
   "source": [
    "## Latitude vs. Temperature Plot"
   ]
  },
  {
   "cell_type": "code",
   "execution_count": 12,
   "metadata": {
    "scrolled": true
   },
   "outputs": [
    {
     "data": {
      "image/png": "[encoded data removed]",
      "text/plain": [
       "<Figure size 432x288 with 1 Axes>"
      ]
     },
     "metadata": {
      "needs_background": "light"
     },
     "output_type": "display_data"
    }
   ],
   "source": [
    "# Plot the scatter plot\n",
    "plt.scatter(weather_df['Lat'], weather_df['Max Temp'], c='steelblue', edgecolors='black')\n",
    "plt.title('City Latitude vs. Max Temperature ')\n",
    "plt.xlabel('Latitude')\n",
    "plt.ylabel('Max Temperature (°F)')\n",
    "plt.grid()\n",
    "plt.show()"
   ]
  },
  {
   "cell_type": "markdown",
   "metadata": {},
   "source": [
    "As the plot show above that at latitude around the center of the latitude has the hotter temperature. Edge of the latitude has colder temperature."
   ]
  },
  {
   "cell_type": "markdown",
   "metadata": {},
   "source": [
    "## Latitude vs. Humidity Plot"
   ]
  },
  {
   "cell_type": "code",
   "execution_count": 13,
   "metadata": {},
   "outputs": [
    {
     "data": {
      "image/png": "[encoded data removed]",
      "text/plain": [
       "<Figure size 432x288 with 1 Axes>"
      ]
     },
     "metadata": {
      "needs_background": "light"
     },
     "output_type": "display_data"
    }
   ],
   "source": [
    "plt.scatter(weather_df['Lat'], weather_df['Humidity'], c='steelblue', edgecolors='black')\n",
    "plt.title('City Latitude vs. Humidity ')\n",
    "plt.xlabel('Latitude')\n",
    "plt.ylabel('Humidity (%)')\n",
    "plt.grid()\n",
    "plt.show()"
   ]
  },
  {
   "cell_type": "markdown",
   "metadata": {},
   "source": [
    "Humidity plot itself could not tell too much story by latitude itself since it looks like it is affect more by the ocean, so the higher humidity % is probably clost to the ocean itself."
   ]
  },
  {
   "cell_type": "markdown",
   "metadata": {},
   "source": [
    "## Latitude vs. Cloudiness Plot"
   ]
  },
  {
   "cell_type": "code",
   "execution_count": 14,
   "metadata": {},
   "outputs": [
    {
     "data": {
      "image/png": "[encoded data removed]",
      "text/plain": [
       "<Figure size 432x288 with 1 Axes>"
      ]
     },
     "metadata": {
      "needs_background": "light"
     },
     "output_type": "display_data"
    }
   ],
   "source": [
    "plt.scatter(weather_df['Lat'], weather_df['Cloudiness'], c='steelblue', edgecolors='black')\n",
    "plt.title('City Latitude vs. Cloudiness ')\n",
    "plt.xlabel('Latitude')\n",
    "plt.ylabel('Cloudiness (%)')\n",
    "plt.grid()\n",
    "plt.show()"
   ]
  },
  {
   "cell_type": "markdown",
   "metadata": {},
   "source": [
    "Cloudiness plot looks like cloudiness is the location depended, same latitude can be either 100% cloudiness or 0% cloudines."
   ]
  },
  {
   "cell_type": "markdown",
   "metadata": {},
   "source": [
    "## Latitude vs. Wind Speed Plot"
   ]
  },
  {
   "cell_type": "code",
   "execution_count": 15,
   "metadata": {},
   "outputs": [
    {
     "data": {
      "image/png": "[encoded data removed]",
      "text/plain": [
       "<Figure size 432x288 with 1 Axes>"
      ]
     },
     "metadata": {
      "needs_background": "light"
     },
     "output_type": "display_data"
    }
   ],
   "source": [
    "plt.scatter(weather_df['Lat'], weather_df['Wind Speed'], c='steelblue', edgecolors='black')\n",
    "plt.title('City Latitude vs. Wind Speed ')\n",
    "plt.xlabel('Latitude')\n",
    "plt.ylabel('Wind Speed (mph)')\n",
    "plt.grid()\n",
    "plt.show()"
   ]
  },
  {
   "cell_type": "markdown",
   "metadata": {},
   "source": [
    "Wind speed plot show that most of the places dont have a lot of wind. Usually the areas have the higher wind speed is close to the higher latitude."
   ]
  },
  {
   "cell_type": "markdown",
   "metadata": {},
   "source": [
    "## Linear Regression"
   ]
  },
  {
   "cell_type": "code",
   "execution_count": 16,
   "metadata": {},
   "outputs": [],
   "source": [
    "# OPTIONAL: Create a function to create Linear Regression plots\n",
    "def liner_reg(input_df, x, y) -> tuple:\n",
    "    x_values = input_df[x].astype('float')\n",
    "    y_values = input_df[y].astype('float')\n",
    "    (slope, intercept, rvalue, pvalue, stderr) = linregress(x_values, y_values)\n",
    "    regress_values = x_values * slope + intercept\n",
    "    line_eq = \"y = \" + str(round(slope,2)) + \"x + \" + str(round(intercept,2))\n",
    "    return (line_eq, x_values, regress_values, rvalue)"
   ]
  },
  {
   "cell_type": "code",
   "execution_count": 17,
   "metadata": {},
   "outputs": [],
   "source": [
    "# Create Northern and Southern Hemisphere DataFrames\n",
    "northern_index = (weather_df['Lat'] >= 0)\n",
    "northern_weather_df = weather_df.loc[northern_index,:]"
   ]
  },
  {
   "cell_type": "code",
   "execution_count": 18,
   "metadata": {},
   "outputs": [],
   "source": [
    "southern_index = (weather_df['Lat'] < 0)\n",
    "southern_weather_df = weather_df.loc[southern_index,:]"
   ]
  },
  {
   "cell_type": "code",
   "execution_count": 19,
   "metadata": {},
   "outputs": [],
   "source": [
    "def plot_lin_reg(hemi, ax, ay, py):\n",
    "    \"\"\" Plot \"\"\"\n",
    "    if hemi.upper() == 'N':\n",
    "        temp_df = northern_weather_df\n",
    "    elif hemi.upper() == 'S':\n",
    "        temp_df = southern_weather_df\n",
    "    else:\n",
    "        print(f'Issue with hemisphere')\n",
    "        \n",
    "    if py == 'Max Temp':\n",
    "        py_label = 'Max Temperature (°F)'\n",
    "    elif py == 'Humidity':\n",
    "        py_label = 'Humidity (%)'\n",
    "    elif py == 'Cloudiness':\n",
    "        py_label = 'Cloudiness (%)'\n",
    "    elif py == 'Wind Speed':\n",
    "        py_label = 'Wind Speed (mph)'\n",
    "    else:\n",
    "        print(f'Issue with py')\n",
    "        \n",
    "    plt.scatter(temp_df['Lat'], temp_df[py], c='steelblue', edgecolors='black')\n",
    "    plt.xlabel('Latitude')\n",
    "    plt.ylabel(py_label)\n",
    "\n",
    "    # Plot regression line\n",
    "    (line_eq, x_values, regress_values, rvalue) = liner_reg(temp_df, 'Lat', py)\n",
    "    plt.plot(x_values,regress_values,\"r-\")\n",
    "    plt.annotate(line_eq,(ax,ay),fontsize=15,color=\"red\")\n",
    "    print(f\"R squared: {rvalue**2}\")\n",
    "    plt.show()\n",
    "    return "
   ]
  },
  {
   "cell_type": "markdown",
   "metadata": {},
   "source": [
    "####  Northern Hemisphere - Max Temp vs. Latitude Linear Regression"
   ]
  },
  {
   "cell_type": "code",
   "execution_count": 20,
   "metadata": {},
   "outputs": [
    {
     "name": "stdout",
     "output_type": "stream",
     "text": [
      "R squared: 0.7475743650033473\n"
     ]
    },
    {
     "data": {
      "image/png": "[encoded data removed]",
      "text/plain": [
       "<Figure size 432x288 with 1 Axes>"
      ]
     },
     "metadata": {
      "needs_background": "light"
     },
     "output_type": "display_data"
    }
   ],
   "source": [
    "plot_lin_reg('N', 10, 260, 'Max Temp')"
   ]
  },
  {
   "cell_type": "markdown",
   "metadata": {},
   "source": [
    "The linear regression shows that the higher latitude the colder the area will be."
   ]
  },
  {
   "cell_type": "markdown",
   "metadata": {},
   "source": [
    "####  Southern Hemisphere - Max Temp vs. Latitude Linear Regression"
   ]
  },
  {
   "cell_type": "code",
   "execution_count": 21,
   "metadata": {},
   "outputs": [
    {
     "name": "stdout",
     "output_type": "stream",
     "text": [
      "R squared: 0.5976057487890921\n"
     ]
    },
    {
     "data": {
      "image/png": "[encoded data removed]",
      "text/plain": [
       "<Figure size 432x288 with 1 Axes>"
      ]
     },
     "metadata": {
      "needs_background": "light"
     },
     "output_type": "display_data"
    }
   ],
   "source": [
    "plot_lin_reg('S', -55, 300, 'Max Temp')"
   ]
  },
  {
   "cell_type": "markdown",
   "metadata": {},
   "source": [
    "The linear regression shows that closer to the center of the latitude it becomes warmer and warmer."
   ]
  },
  {
   "cell_type": "markdown",
   "metadata": {},
   "source": [
    "####  Northern Hemisphere - Humidity (%) vs. Latitude Linear Regression"
   ]
  },
  {
   "cell_type": "code",
   "execution_count": 22,
   "metadata": {},
   "outputs": [
    {
     "name": "stdout",
     "output_type": "stream",
     "text": [
      "R squared: 0.01797411985643502\n"
     ]
    },
    {
     "data": {
      "image/png": "[encoded data removed]",
      "text/plain": [
       "<Figure size 432x288 with 1 Axes>"
      ]
     },
     "metadata": {
      "needs_background": "light"
     },
     "output_type": "display_data"
    }
   ],
   "source": [
    "plot_lin_reg('N', 45, 5, 'Humidity')"
   ]
  },
  {
   "cell_type": "markdown",
   "metadata": {},
   "source": [
    "Humidity is pretty flat across the northern hemisphere, most of the areas have high humidity level."
   ]
  },
  {
   "cell_type": "markdown",
   "metadata": {},
   "source": [
    "####  Southern Hemisphere - Humidity (%) vs. Latitude Linear Regression"
   ]
  },
  {
   "cell_type": "code",
   "execution_count": 23,
   "metadata": {},
   "outputs": [
    {
     "name": "stdout",
     "output_type": "stream",
     "text": [
      "R squared: 0.010181747289829181\n"
     ]
    },
    {
     "data": {
      "image/png": "[encoded data removed]",
      "text/plain": [
       "<Figure size 432x288 with 1 Axes>"
      ]
     },
     "metadata": {
      "needs_background": "light"
     },
     "output_type": "display_data"
    }
   ],
   "source": [
    "plot_lin_reg('S', -55, 24, 'Humidity')"
   ]
  },
  {
   "cell_type": "markdown",
   "metadata": {},
   "source": [
    "Humidity is pretty flat across the southern hemisphere as well, and closer to the 0 latitude, the humitidty is higher."
   ]
  },
  {
   "cell_type": "markdown",
   "metadata": {},
   "source": [
    "####  Northern Hemisphere - Cloudiness (%) vs. Latitude Linear Regression"
   ]
  },
  {
   "cell_type": "code",
   "execution_count": 24,
   "metadata": {},
   "outputs": [
    {
     "name": "stdout",
     "output_type": "stream",
     "text": [
      "R squared: 0.005294785591858632\n"
     ]
    },
    {
     "data": {
      "image/png": "[encoded data removed]",
      "text/plain": [
       "<Figure size 432x288 with 1 Axes>"
      ]
     },
     "metadata": {
      "needs_background": "light"
     },
     "output_type": "display_data"
    }
   ],
   "source": [
    "plot_lin_reg('N', 45, 5, 'Cloudiness')"
   ]
  },
  {
   "cell_type": "markdown",
   "metadata": {},
   "source": [
    "Most of the areas in the northern hemispher, cloudiness level is either 100% or 0%."
   ]
  },
  {
   "cell_type": "markdown",
   "metadata": {},
   "source": [
    "####  Southern Hemisphere - Cloudiness (%) vs. Latitude Linear Regression"
   ]
  },
  {
   "cell_type": "code",
   "execution_count": 25,
   "metadata": {},
   "outputs": [
    {
     "name": "stdout",
     "output_type": "stream",
     "text": [
      "R squared: 0.0027461614344849354\n"
     ]
    },
    {
     "data": {
      "image/png": "[encoded data removed]",
      "text/plain": [
       "<Figure size 432x288 with 1 Axes>"
      ]
     },
     "metadata": {
      "needs_background": "light"
     },
     "output_type": "display_data"
    }
   ],
   "source": [
    "plot_lin_reg('S', -55, 5, 'Cloudiness')"
   ]
  },
  {
   "cell_type": "markdown",
   "metadata": {},
   "source": [
    "For southern hemisphere,  most of the areas around -30 to -20 latitude have 0% cloudiness."
   ]
  },
  {
   "cell_type": "markdown",
   "metadata": {},
   "source": [
    "####  Northern Hemisphere - Wind Speed (mph) vs. Latitude Linear Regression"
   ]
  },
  {
   "cell_type": "code",
   "execution_count": 26,
   "metadata": {},
   "outputs": [
    {
     "name": "stdout",
     "output_type": "stream",
     "text": [
      "R squared: 0.03125292107585675\n"
     ]
    },
    {
     "data": {
      "image/png": "[encoded data removed]",
      "text/plain": [
       "<Figure size 432x288 with 1 Axes>"
      ]
     },
     "metadata": {
      "needs_background": "light"
     },
     "output_type": "display_data"
    }
   ],
   "source": [
    "plot_lin_reg('N', 10, 14.5, 'Wind Speed')"
   ]
  },
  {
   "cell_type": "markdown",
   "metadata": {},
   "source": [
    "Northern hemisphere has pretty average wind speed between 2~4 mph."
   ]
  },
  {
   "cell_type": "markdown",
   "metadata": {},
   "source": [
    "####  Southern Hemisphere - Wind Speed (mph) vs. Latitude Linear Regression"
   ]
  },
  {
   "cell_type": "code",
   "execution_count": 27,
   "metadata": {},
   "outputs": [
    {
     "name": "stdout",
     "output_type": "stream",
     "text": [
      "R squared: 0.0038568289651671715\n"
     ]
    },
    {
     "data": {
      "image/png": "[encoded data removed]",
      "text/plain": [
       "<Figure size 432x288 with 1 Axes>"
      ]
     },
     "metadata": {
      "needs_background": "light"
     },
     "output_type": "display_data"
    }
   ],
   "source": [
    "plot_lin_reg('S', -55, 9, 'Wind Speed')"
   ]
  },
  {
   "cell_type": "markdown",
   "metadata": {},
   "source": [
    "For southern hemisphere, the closer to the 0 latitude, the less wind speed it has."
   ]
  },
  {
   "cell_type": "code",
   "execution_count": null,
   "metadata": {},
   "outputs": [],
   "source": []
  },
  {
   "cell_type": "code",
   "execution_count": null,
   "metadata": {},
   "outputs": [],
   "source": []
  }
 ],
 "metadata": {
  "anaconda-cloud": {},
  "kernel_info": {
   "name": "python3"
  },
  "kernelspec": {
   "display_name": "Python 3",
   "language": "python",
   "name": "python3"
  },
  "language_info": {
   "codemirror_mode": {
    "name": "ipython",
    "version": 3
   },
   "file_extension": ".py",
   "mimetype": "text/x-python",
   "name": "python",
   "nbconvert_exporter": "python",
   "pygments_lexer": "ipython3",
   "version": "3.7.6"
  },
  "latex_envs": {
   "LaTeX_envs_menu_present": true,
   "autoclose": false,
   "autocomplete": true,
   "bibliofile": "biblio.bib",
   "cite_by": "apalike",
   "current_citInitial": 1,
   "eqLabelWithNumbers": true,
   "eqNumInitial": 1,
   "hotkeys": {
    "equation": "Ctrl-E",
    "itemize": "Ctrl-I"
   },
   "labels_anchors": false,
   "latex_user_defs": false,
   "report_style_numbering": false,
   "user_envs_cfg": false
  },
  "nteract": {
   "version": "0.12.3"
  }
 },
 "nbformat": 4,
 "nbformat_minor": 2
}
